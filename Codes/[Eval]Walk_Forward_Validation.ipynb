{
  "nbformat": 4,
  "nbformat_minor": 0,
  "metadata": {
    "colab": {
      "name": "Walk-Forward Validation.ipynb",
      "provenance": [],
      "collapsed_sections": []
    },
    "kernelspec": {
      "name": "python3",
      "display_name": "Python 3"
    }
  },
  "cells": [
    {
      "cell_type": "code",
      "metadata": {
        "id": "Ouqlbb6K1qFh"
      },
      "source": [
        "import pandas as pd\r\n",
        "import numpy as np\r\n",
        "import warnings\r\n",
        "warnings.filterwarnings(action='ignore')\r\n",
        "import torch\r\n",
        "import torch.nn as nn\r\n",
        "import torch.nn.functional as F\r\n",
        "import torchvision\r\n",
        "import torchvision.transforms as transforms\r\n",
        "from torch.utils.data import Dataset,DataLoader\r\n",
        "import torch.optim as optim\r\n",
        "torch.manual_seed(1015)\r\n",
        "from sklearn.metrics import mean_squared_error\r\n",
        "from math import sqrt\r\n",
        "\r\n",
        "import plotly.graph_objects as go\r\n",
        "from plotly.subplots import make_subplots"
      ],
      "execution_count": 150,
      "outputs": []
    },
    {
      "cell_type": "code",
      "metadata": {
        "id": "WiY3nRIILjBi"
      },
      "source": [
        "# validation을 위한 함수\r\n",
        "\r\n",
        "\r\n",
        "## 데이터 분할\r\n",
        "\r\n",
        "class train_test_split_ts:\r\n",
        "    def __init__(self, cum=1, n_split=5, test_size=1):\r\n",
        "        \"\"\"       \r\n",
        "        - cum : train을 첫번째 데이터부터 누적해서 사용할지 일부 구간만 사용할지 \r\n",
        "        - n_split : number of splits\r\n",
        "        - test_size : size of the test set\r\n",
        "        \"\"\"\r\n",
        "\r\n",
        "        self.cum = cum\r\n",
        "        self.n_split = n_split\r\n",
        "        self.test_size = test_size\r\n",
        "\r\n",
        "    \r\n",
        "    def split(self, window_x, window_y):\r\n",
        "        \"\"\"\r\n",
        "        전체 데이터 x, y 준비\r\n",
        "        \"\"\"\r\n",
        "\r\n",
        "        cum = self.cum\r\n",
        "        n_split = self.n_split\r\n",
        "        test_size = self.test_size\r\n",
        "\r\n",
        "        n_data = len(window_x)\r\n",
        "        idx = [i for i in range(n_data)]\r\n",
        "\r\n",
        "        data_range = n_data // n_split # cross-validation을 위한 구간\r\n",
        "        train_start_indice = [i for i in range(0, n_data, n_data//n_split)][:n_split]\r\n",
        "        \r\n",
        "        for i in range(n_split):\r\n",
        "            train_start = train_start_indice[i] # train_start_index\r\n",
        "\r\n",
        "\r\n",
        "            if cum == 0: # train 일부 구간\r\n",
        "                if i == n_split-1: # 맨 마지막 구간은 남아있는 데이터 모두 train으로 넣기\r\n",
        "                    yield (idx[train_start:n_data-test_size], idx[-test_size:])\r\n",
        "\r\n",
        "                else:\r\n",
        "                    yield (idx[train_start:train_start+data_range-test_size],\r\n",
        "                        idx[train_start+data_range-test_size:train_start+data_range])\r\n",
        "                \r\n",
        "\r\n",
        "            elif cum == 1:  # train 누적 구간\r\n",
        "                if i == n_split-1: # 맨 마지막 구간은 남아있는 데이터 모두 train으로 넣기\r\n",
        "                    yield (idx[0:n_data-test_size], idx[-test_size:])\r\n",
        "\r\n",
        "                else:\r\n",
        "                    yield (idx[0:train_start+data_range-test_size],\r\n",
        "                        idx[train_start+data_range-test_size:train_start+data_range])\r\n",
        "\r\n",
        "            else:\r\n",
        "                raise ValueError(\"cum=0 or 1\")"
      ],
      "execution_count": 85,
      "outputs": []
    },
    {
      "cell_type": "code",
      "metadata": {
        "colab": {
          "base_uri": "https://localhost:8080/"
        },
        "id": "B-WYuDWdbrSW",
        "outputId": "cfb139cc-8739-4b10-b7d6-30692394b7db"
      },
      "source": [
        "# 사용 예)\r\n",
        "ts_split = train_test_split_ts(cum=1, n_split=5, test_size=1)\r\n",
        "for train_idx, test_idx in ts_split.split(window_x, window_y):\r\n",
        "    print(\"Train:\", train_idx)\r\n",
        "    print(\"Test:\", test_idx)\r\n",
        "3    print('-'*50)"
      ],
      "execution_count": 86,
      "outputs": [
        {
          "output_type": "stream",
          "text": [
            "Train: [0, 1, 2, 3, 4, 5, 6, 7, 8, 9, 10, 11, 12, 13, 14, 15, 16, 17, 18, 19, 20, 21, 22, 23, 24, 25, 26, 27, 28, 29, 30, 31, 32, 33, 34, 35, 36, 37, 38, 39, 40, 41, 42, 43, 44, 45, 46, 47, 48, 49, 50, 51, 52, 53, 54, 55, 56, 57, 58, 59, 60, 61, 62, 63, 64, 65, 66, 67, 68, 69, 70, 71, 72, 73, 74, 75, 76, 77, 78, 79, 80, 81, 82, 83, 84, 85, 86, 87, 88, 89]\n",
            "Test: [90]\n",
            "--------------------------------------------------\n",
            "Train: [0, 1, 2, 3, 4, 5, 6, 7, 8, 9, 10, 11, 12, 13, 14, 15, 16, 17, 18, 19, 20, 21, 22, 23, 24, 25, 26, 27, 28, 29, 30, 31, 32, 33, 34, 35, 36, 37, 38, 39, 40, 41, 42, 43, 44, 45, 46, 47, 48, 49, 50, 51, 52, 53, 54, 55, 56, 57, 58, 59, 60, 61, 62, 63, 64, 65, 66, 67, 68, 69, 70, 71, 72, 73, 74, 75, 76, 77, 78, 79, 80, 81, 82, 83, 84, 85, 86, 87, 88, 89, 90, 91, 92, 93, 94, 95, 96, 97, 98, 99, 100, 101, 102, 103, 104, 105, 106, 107, 108, 109, 110, 111, 112, 113, 114, 115, 116, 117, 118, 119, 120, 121, 122, 123, 124, 125, 126, 127, 128, 129, 130, 131, 132, 133, 134, 135, 136, 137, 138, 139, 140, 141, 142, 143, 144, 145, 146, 147, 148, 149, 150, 151, 152, 153, 154, 155, 156, 157, 158, 159, 160, 161, 162, 163, 164, 165, 166, 167, 168, 169, 170, 171, 172, 173, 174, 175, 176, 177, 178, 179, 180]\n",
            "Test: [181]\n",
            "--------------------------------------------------\n",
            "Train: [0, 1, 2, 3, 4, 5, 6, 7, 8, 9, 10, 11, 12, 13, 14, 15, 16, 17, 18, 19, 20, 21, 22, 23, 24, 25, 26, 27, 28, 29, 30, 31, 32, 33, 34, 35, 36, 37, 38, 39, 40, 41, 42, 43, 44, 45, 46, 47, 48, 49, 50, 51, 52, 53, 54, 55, 56, 57, 58, 59, 60, 61, 62, 63, 64, 65, 66, 67, 68, 69, 70, 71, 72, 73, 74, 75, 76, 77, 78, 79, 80, 81, 82, 83, 84, 85, 86, 87, 88, 89, 90, 91, 92, 93, 94, 95, 96, 97, 98, 99, 100, 101, 102, 103, 104, 105, 106, 107, 108, 109, 110, 111, 112, 113, 114, 115, 116, 117, 118, 119, 120, 121, 122, 123, 124, 125, 126, 127, 128, 129, 130, 131, 132, 133, 134, 135, 136, 137, 138, 139, 140, 141, 142, 143, 144, 145, 146, 147, 148, 149, 150, 151, 152, 153, 154, 155, 156, 157, 158, 159, 160, 161, 162, 163, 164, 165, 166, 167, 168, 169, 170, 171, 172, 173, 174, 175, 176, 177, 178, 179, 180, 181, 182, 183, 184, 185, 186, 187, 188, 189, 190, 191, 192, 193, 194, 195, 196, 197, 198, 199, 200, 201, 202, 203, 204, 205, 206, 207, 208, 209, 210, 211, 212, 213, 214, 215, 216, 217, 218, 219, 220, 221, 222, 223, 224, 225, 226, 227, 228, 229, 230, 231, 232, 233, 234, 235, 236, 237, 238, 239, 240, 241, 242, 243, 244, 245, 246, 247, 248, 249, 250, 251, 252, 253, 254, 255, 256, 257, 258, 259, 260, 261, 262, 263, 264, 265, 266, 267, 268, 269, 270, 271]\n",
            "Test: [272]\n",
            "--------------------------------------------------\n",
            "Train: [0, 1, 2, 3, 4, 5, 6, 7, 8, 9, 10, 11, 12, 13, 14, 15, 16, 17, 18, 19, 20, 21, 22, 23, 24, 25, 26, 27, 28, 29, 30, 31, 32, 33, 34, 35, 36, 37, 38, 39, 40, 41, 42, 43, 44, 45, 46, 47, 48, 49, 50, 51, 52, 53, 54, 55, 56, 57, 58, 59, 60, 61, 62, 63, 64, 65, 66, 67, 68, 69, 70, 71, 72, 73, 74, 75, 76, 77, 78, 79, 80, 81, 82, 83, 84, 85, 86, 87, 88, 89, 90, 91, 92, 93, 94, 95, 96, 97, 98, 99, 100, 101, 102, 103, 104, 105, 106, 107, 108, 109, 110, 111, 112, 113, 114, 115, 116, 117, 118, 119, 120, 121, 122, 123, 124, 125, 126, 127, 128, 129, 130, 131, 132, 133, 134, 135, 136, 137, 138, 139, 140, 141, 142, 143, 144, 145, 146, 147, 148, 149, 150, 151, 152, 153, 154, 155, 156, 157, 158, 159, 160, 161, 162, 163, 164, 165, 166, 167, 168, 169, 170, 171, 172, 173, 174, 175, 176, 177, 178, 179, 180, 181, 182, 183, 184, 185, 186, 187, 188, 189, 190, 191, 192, 193, 194, 195, 196, 197, 198, 199, 200, 201, 202, 203, 204, 205, 206, 207, 208, 209, 210, 211, 212, 213, 214, 215, 216, 217, 218, 219, 220, 221, 222, 223, 224, 225, 226, 227, 228, 229, 230, 231, 232, 233, 234, 235, 236, 237, 238, 239, 240, 241, 242, 243, 244, 245, 246, 247, 248, 249, 250, 251, 252, 253, 254, 255, 256, 257, 258, 259, 260, 261, 262, 263, 264, 265, 266, 267, 268, 269, 270, 271, 272, 273, 274, 275, 276, 277, 278, 279, 280, 281, 282, 283, 284, 285, 286, 287, 288, 289, 290, 291, 292, 293, 294, 295, 296, 297, 298, 299, 300, 301, 302, 303, 304, 305, 306, 307, 308, 309, 310, 311, 312, 313, 314, 315, 316, 317, 318, 319, 320, 321, 322, 323, 324, 325, 326, 327, 328, 329, 330, 331, 332, 333, 334, 335, 336, 337, 338, 339, 340, 341, 342, 343, 344, 345, 346, 347, 348, 349, 350, 351, 352, 353, 354, 355, 356, 357, 358, 359, 360, 361, 362]\n",
            "Test: [363]\n",
            "--------------------------------------------------\n",
            "Train: [0, 1, 2, 3, 4, 5, 6, 7, 8, 9, 10, 11, 12, 13, 14, 15, 16, 17, 18, 19, 20, 21, 22, 23, 24, 25, 26, 27, 28, 29, 30, 31, 32, 33, 34, 35, 36, 37, 38, 39, 40, 41, 42, 43, 44, 45, 46, 47, 48, 49, 50, 51, 52, 53, 54, 55, 56, 57, 58, 59, 60, 61, 62, 63, 64, 65, 66, 67, 68, 69, 70, 71, 72, 73, 74, 75, 76, 77, 78, 79, 80, 81, 82, 83, 84, 85, 86, 87, 88, 89, 90, 91, 92, 93, 94, 95, 96, 97, 98, 99, 100, 101, 102, 103, 104, 105, 106, 107, 108, 109, 110, 111, 112, 113, 114, 115, 116, 117, 118, 119, 120, 121, 122, 123, 124, 125, 126, 127, 128, 129, 130, 131, 132, 133, 134, 135, 136, 137, 138, 139, 140, 141, 142, 143, 144, 145, 146, 147, 148, 149, 150, 151, 152, 153, 154, 155, 156, 157, 158, 159, 160, 161, 162, 163, 164, 165, 166, 167, 168, 169, 170, 171, 172, 173, 174, 175, 176, 177, 178, 179, 180, 181, 182, 183, 184, 185, 186, 187, 188, 189, 190, 191, 192, 193, 194, 195, 196, 197, 198, 199, 200, 201, 202, 203, 204, 205, 206, 207, 208, 209, 210, 211, 212, 213, 214, 215, 216, 217, 218, 219, 220, 221, 222, 223, 224, 225, 226, 227, 228, 229, 230, 231, 232, 233, 234, 235, 236, 237, 238, 239, 240, 241, 242, 243, 244, 245, 246, 247, 248, 249, 250, 251, 252, 253, 254, 255, 256, 257, 258, 259, 260, 261, 262, 263, 264, 265, 266, 267, 268, 269, 270, 271, 272, 273, 274, 275, 276, 277, 278, 279, 280, 281, 282, 283, 284, 285, 286, 287, 288, 289, 290, 291, 292, 293, 294, 295, 296, 297, 298, 299, 300, 301, 302, 303, 304, 305, 306, 307, 308, 309, 310, 311, 312, 313, 314, 315, 316, 317, 318, 319, 320, 321, 322, 323, 324, 325, 326, 327, 328, 329, 330, 331, 332, 333, 334, 335, 336, 337, 338, 339, 340, 341, 342, 343, 344, 345, 346, 347, 348, 349, 350, 351, 352, 353, 354, 355, 356, 357, 358, 359, 360, 361, 362, 363, 364, 365, 366, 367, 368, 369, 370, 371, 372, 373, 374, 375, 376, 377, 378, 379, 380, 381, 382, 383, 384, 385, 386, 387, 388, 389, 390, 391, 392, 393, 394, 395, 396, 397, 398, 399, 400, 401, 402, 403, 404, 405, 406, 407, 408, 409, 410, 411, 412, 413, 414, 415, 416, 417, 418, 419, 420, 421, 422, 423, 424, 425, 426, 427, 428, 429, 430, 431, 432, 433, 434, 435, 436, 437, 438, 439, 440, 441, 442, 443, 444, 445, 446, 447, 448, 449, 450, 451, 452, 453, 454, 455]\n",
            "Test: [456]\n",
            "--------------------------------------------------\n"
          ],
          "name": "stdout"
        }
      ]
    },
    {
      "cell_type": "code",
      "metadata": {
        "id": "kTCCqduivZpj"
      },
      "source": [
        "# 모델\r\n",
        "class LSTM(nn.Module):\r\n",
        "    def __init__(self, input_size, hidden_size):\r\n",
        "        super(LSTM, self).__init__()\r\n",
        "        self.hidden_size = hidden_size\r\n",
        "        self.lstm = nn.LSTM(input_size = input_size,\r\n",
        "                            hidden_size = hidden_size,\r\n",
        "                            batch_first=True)\r\n",
        "        self.hidden_lstm = nn.LSTM(input_size = hidden_size,\r\n",
        "                                   hidden_size = hidden_size,\r\n",
        "                                   batch_first=True)\r\n",
        "        \r\n",
        "        self.time_fc = nn.Linear(hidden_size, 4)\r\n",
        "    \r\n",
        "    def forward(self, x_time):\r\n",
        "    \r\n",
        "        out_time, (h, c) = self.lstm(x_time)\r\n",
        "\r\n",
        "        out_time, _ = self.hidden_lstm(out_time)\r\n",
        "\r\n",
        "        out_time, _ = self.hidden_lstm(out_time) # [30, 30]\r\n",
        "\r\n",
        "        out_time, _ = self.hidden_lstm(out_time) # [30, 4]\r\n",
        "\r\n",
        "        out_time = self.time_fc(out_time[:,-7:, :]) \r\n",
        "\r\n",
        "        \r\n",
        "        return out_time.view(-1,7,4)\r\n",
        "\r\n",
        "\r\n",
        "# 모델 학습\r\n",
        "def train_model(model, X_train, y_train):\r\n",
        "  \r\n",
        "    X_tensor = torch.tensor(X_train).float().to(device)\r\n",
        "    y_tensor = torch.tensor(y_train).float().to(device)\r\n",
        "\r\n",
        "    # Train model\r\n",
        "    optimizer = torch.optim.Adam(model.parameters(), lr = 1e-2)\r\n",
        "    criterion = nn.MSELoss(size_average = True)\r\n",
        "    num_epochs  = 500\r\n",
        "\r\n",
        "    train_error = []\r\n",
        "    for t in range(1, num_epochs+1):\r\n",
        "        train_pred = model(X_tensor)\r\n",
        "        loss = criterion(train_pred, y_tensor) ### trend\r\n",
        "        train_error.append(loss)\r\n",
        "        \r\n",
        "        optimizer.zero_grad()\r\n",
        "        loss.backward()\r\n",
        "        optimizer.step()\r\n",
        "\r\n",
        "        if t == num_epochs:\r\n",
        "            print(f\"{t} Epochs train MSE: {loss.item():1.5f}\")\r\n",
        "\r\n",
        "\r\n",
        "# valid loss\r\n",
        "def get_test_errors(model, X_test, y_test):\r\n",
        "    X_tensor = torch.tensor(X_test).float().to(device)\r\n",
        "    y_pred_tensor = model(X_tensor)\r\n",
        "    y_pred = y_pred_tensor.cpu().detach().numpy()\r\n",
        "    \r\n",
        "    \r\n",
        "    error1 = sqrt(mean_squared_error(y_test[:, 0], y_pred[:, 0])) # 사용자\r\n",
        "    error2 = sqrt(mean_squared_error(y_test[:, 1], y_pred[:, 1])) # 세션\r\n",
        "    error3 = sqrt(mean_squared_error(y_test[:, 2], y_pred[:, 2])) # 신규방문자\r\n",
        "    error4 = sqrt(mean_squared_error(y_test[:, 3], y_pred[:, 3])) # 페이지뷰\r\n",
        "    error = np.mean([error1, error2, error3, error4])\r\n",
        "        \r\n",
        "    return error1, error2, error3, error4, error"
      ],
      "execution_count": 165,
      "outputs": []
    },
    {
      "cell_type": "markdown",
      "metadata": {
        "id": "ziW-BASCoySD"
      },
      "source": [
        "# 데이터 로드 "
      ]
    },
    {
      "cell_type": "code",
      "metadata": {
        "colab": {
          "base_uri": "https://localhost:8080/"
        },
        "id": "wp_pdyFCozS4",
        "outputId": "f293dd40-a081-461a-a96c-4de88623028f"
      },
      "source": [
        "all = pd.read_csv(\"/content/drive/MyDrive/dacon/daconcup/Data/all_preped_01.csv\")\r\n",
        "print(all.shape)\r\n",
        "print(all.columns)\r\n",
        "all_raw = all.copy()"
      ],
      "execution_count": 104,
      "outputs": [
        {
          "output_type": "stream",
          "text": [
            "(555, 10)\n",
            "Index(['date', '사용자', '세션', '신규방문자', '페이지뷰', 'cnt_signin', 'cnt_login',\n",
            "       'cnt_sub', 'total_participants', 'isTrain'],\n",
            "      dtype='object')\n"
          ],
          "name": "stdout"
        }
      ]
    },
    {
      "cell_type": "code",
      "metadata": {
        "id": "iyGJRwwaotD_"
      },
      "source": [
        "# window_x, window_y (스케일링 전)\r\n",
        "train = all.loc[all['isTrain']==1, :] \r\n",
        "train = all.loc[all['isTrain']==1, [col for col in all.columns if col != 'isTrain']] \r\n",
        "\r\n",
        "input_window = 30\r\n",
        "output_window = 7\r\n",
        "\r\n",
        "window_x = np.zeros((train.shape[0] - (input_window + output_window), input_window, 8)) # (데이터 수, time sequence, input_dim)\r\n",
        "window_y = np.zeros((train.shape[0] - (input_window + output_window), output_window, 4))  # (데이터 수, time sequence, output_dim)\r\n",
        "\r\n",
        "for start in range(train.shape[0] - (input_window + output_window)):\r\n",
        "    end = start + input_window    \r\n",
        "    window_x[start,:, :] = train.iloc[start : end                , 1: ].values\r\n",
        "    window_y[start,:, :] = train.iloc[end   : end + output_window, 1:5].values"
      ],
      "execution_count": 105,
      "outputs": []
    },
    {
      "cell_type": "markdown",
      "metadata": {
        "id": "GBlMpimNsW-i"
      },
      "source": [
        "# Validation\r\n",
        "\r\n",
        "- 스케일링 된 상태에서 error를 봐야함. 왜냐하면 시간의 흐름에 따라 상승곡선을 그리고 있어서 스케일링 하지 않으면 2018년보다 2020년의 error가 무조건 크게 나옴. 이러면 validation을 했을 때 마지막 fold 영향만 받게 되어 의미가 없어짐."
      ]
    },
    {
      "cell_type": "markdown",
      "metadata": {
        "id": "0o9lsRmX06Bw"
      },
      "source": [
        "# 방법1) 누적\r\n",
        "\r\n",
        "\r\n"
      ]
    },
    {
      "cell_type": "code",
      "metadata": {
        "colab": {
          "base_uri": "https://localhost:8080/"
        },
        "id": "eEnXe9LoBJY8",
        "outputId": "2eeae291-de97-4fb6-ce35-d3c7d24edf9d"
      },
      "source": [
        "errors = {'사용자': [], '세션':[], '신규방문자':[], '페이지뷰':[], 'total':[]}\r\n",
        "\r\n",
        "ts_split = train_test_split_ts(cum=1, n_split=5, test_size=1)\r\n",
        "i = 1\r\n",
        "for train_idx, test_idx in ts_split.split(window_x, window_y):\r\n",
        "    print(f\"{i}fold cv---------------------------------\")\r\n",
        "    X_train, X_test = window_x[train_idx], window_x[test_idx]\r\n",
        "    y_train, y_test = window_y[train_idx], window_y[test_idx]\r\n",
        "\r\n",
        "    # 스케일링\r\n",
        "    mini = X_train.min(axis=0)\r\n",
        "    size = X_train.max(axis=0) - X_train.min(axis=0)\r\n",
        "    X_train = (X_train - mini) / size\r\n",
        "    X_test = (X_test - mini) / size\r\n",
        "    y_train = (y_train - mini[:7, :4]) / size[:7, :4]\r\n",
        "    y_test = (y_test - mini[:7, :4]) / size[:7, :4]\r\n",
        "    print('Done scaling...')\r\n",
        "\r\n",
        "    # 모델 학습\r\n",
        "    model = LSTM(input_size = 8, hidden_size = 64).to(device)\r\n",
        "    train_model(model, X_train, y_train)\r\n",
        "    print('Done training...')\r\n",
        "\r\n",
        "    # 모델 평가\r\n",
        "    err_tuple = get_test_errors(model, X_test, y_test)\r\n",
        "\r\n",
        "    for j, k in enumerate(errors.keys()):\r\n",
        "        errors[k].append(err_tuple[j])\r\n",
        "    print('Done Validation...')\r\n",
        "    \r\n",
        "    i += 1\r\n"
      ],
      "execution_count": 170,
      "outputs": [
        {
          "output_type": "stream",
          "text": [
            "1fold cv---------------------------------\n",
            "Done scaling...\n",
            "500 Epochs train MSE: 0.00028\n",
            "Done training...\n",
            "Done Validation...\n",
            "2fold cv---------------------------------\n",
            "Done scaling...\n",
            "500 Epochs train MSE: 0.00042\n",
            "Done training...\n",
            "Done Validation...\n",
            "3fold cv---------------------------------\n",
            "Done scaling...\n",
            "500 Epochs train MSE: 0.00039\n",
            "Done training...\n",
            "Done Validation...\n",
            "4fold cv---------------------------------\n",
            "Done scaling...\n",
            "500 Epochs train MSE: 0.00750\n",
            "Done training...\n",
            "Done Validation...\n",
            "5fold cv---------------------------------\n",
            "Done scaling...\n",
            "500 Epochs train MSE: 0.00057\n",
            "Done training...\n",
            "Done Validation...\n"
          ],
          "name": "stdout"
        }
      ]
    },
    {
      "cell_type": "code",
      "metadata": {
        "colab": {
          "base_uri": "https://localhost:8080/",
          "height": 204
        },
        "id": "9h_4YJfIy6sm",
        "outputId": "304423ed-db54-48ba-88d4-a929718645e2"
      },
      "source": [
        "pd.DataFrame(errors)"
      ],
      "execution_count": 172,
      "outputs": [
        {
          "output_type": "execute_result",
          "data": {
            "text/html": [
              "<div>\n",
              "<style scoped>\n",
              "    .dataframe tbody tr th:only-of-type {\n",
              "        vertical-align: middle;\n",
              "    }\n",
              "\n",
              "    .dataframe tbody tr th {\n",
              "        vertical-align: top;\n",
              "    }\n",
              "\n",
              "    .dataframe thead th {\n",
              "        text-align: right;\n",
              "    }\n",
              "</style>\n",
              "<table border=\"1\" class=\"dataframe\">\n",
              "  <thead>\n",
              "    <tr style=\"text-align: right;\">\n",
              "      <th></th>\n",
              "      <th>사용자</th>\n",
              "      <th>세션</th>\n",
              "      <th>신규방문자</th>\n",
              "      <th>페이지뷰</th>\n",
              "      <th>total</th>\n",
              "    </tr>\n",
              "  </thead>\n",
              "  <tbody>\n",
              "    <tr>\n",
              "      <th>0</th>\n",
              "      <td>0.011350</td>\n",
              "      <td>0.003409</td>\n",
              "      <td>0.009569</td>\n",
              "      <td>0.006094</td>\n",
              "      <td>0.007606</td>\n",
              "    </tr>\n",
              "    <tr>\n",
              "      <th>1</th>\n",
              "      <td>0.034905</td>\n",
              "      <td>0.011524</td>\n",
              "      <td>0.016547</td>\n",
              "      <td>0.023156</td>\n",
              "      <td>0.021533</td>\n",
              "    </tr>\n",
              "    <tr>\n",
              "      <th>2</th>\n",
              "      <td>0.025726</td>\n",
              "      <td>0.013574</td>\n",
              "      <td>0.001232</td>\n",
              "      <td>0.030175</td>\n",
              "      <td>0.017677</td>\n",
              "    </tr>\n",
              "    <tr>\n",
              "      <th>3</th>\n",
              "      <td>0.611371</td>\n",
              "      <td>0.273544</td>\n",
              "      <td>0.240690</td>\n",
              "      <td>0.080229</td>\n",
              "      <td>0.301459</td>\n",
              "    </tr>\n",
              "    <tr>\n",
              "      <th>4</th>\n",
              "      <td>0.013107</td>\n",
              "      <td>0.016314</td>\n",
              "      <td>0.039735</td>\n",
              "      <td>0.020540</td>\n",
              "      <td>0.022424</td>\n",
              "    </tr>\n",
              "  </tbody>\n",
              "</table>\n",
              "</div>"
            ],
            "text/plain": [
              "        사용자        세션     신규방문자      페이지뷰     total\n",
              "0  0.011350  0.003409  0.009569  0.006094  0.007606\n",
              "1  0.034905  0.011524  0.016547  0.023156  0.021533\n",
              "2  0.025726  0.013574  0.001232  0.030175  0.017677\n",
              "3  0.611371  0.273544  0.240690  0.080229  0.301459\n",
              "4  0.013107  0.016314  0.039735  0.020540  0.022424"
            ]
          },
          "metadata": {
            "tags": []
          },
          "execution_count": 172
        }
      ]
    },
    {
      "cell_type": "markdown",
      "metadata": {
        "id": "vala0glM1ogD"
      },
      "source": [
        "# 방법2) 일부 구간"
      ]
    },
    {
      "cell_type": "code",
      "metadata": {
        "colab": {
          "base_uri": "https://localhost:8080/"
        },
        "id": "P6idMDnN1pbv",
        "outputId": "f7efa608-9325-45a2-8a1c-4c24615846be"
      },
      "source": [
        "%%time\r\n",
        "errors = {'사용자': [], '세션':[], '신규방문자':[], '페이지뷰':[], 'total':[]}\r\n",
        "\r\n",
        "ts_split = train_test_split_ts(cum=0, n_split=5, test_size=1)\r\n",
        "i = 1\r\n",
        "for train_idx, test_idx in ts_split.split(window_x, window_y):\r\n",
        "    print(f\"{i}fold cv---------------------------------\")\r\n",
        "    X_train, X_test = window_x[train_idx], window_x[test_idx]\r\n",
        "    y_train, y_test = window_y[train_idx], window_y[test_idx]\r\n",
        "\r\n",
        "    # 스케일링\r\n",
        "    mini = X_train.min(axis=0)\r\n",
        "    size = X_train.max(axis=0) - X_train.min(axis=0)\r\n",
        "    X_train = (X_train - mini) / size\r\n",
        "    X_test = (X_test - mini) / size\r\n",
        "    y_train = (y_train - mini[:7, :4]) / size[:7, :4]\r\n",
        "    y_test = (y_test - mini[:7, :4]) / size[:7, :4]\r\n",
        "    print('Done scaling...')\r\n",
        "\r\n",
        "    # 모델 학습\r\n",
        "    model = LSTM(input_size = 8, hidden_size = 64).to(device)\r\n",
        "    train_model(model, X_train, y_train)\r\n",
        "    print('Done training...')\r\n",
        "\r\n",
        "    # 모델 평가\r\n",
        "    err_tuple = get_test_errors(model, X_test, y_test)\r\n",
        "\r\n",
        "    for j, k in enumerate(errors.keys()):\r\n",
        "        errors[k].append(err_tuple[j])\r\n",
        "    print('Done Validation...')\r\n",
        "    \r\n",
        "    i += 1"
      ],
      "execution_count": 173,
      "outputs": [
        {
          "output_type": "stream",
          "text": [
            "1fold cv---------------------------------\n",
            "Done scaling...\n",
            "500 Epochs train MSE: 0.00006\n",
            "Done training...\n",
            "Done Validation...\n",
            "2fold cv---------------------------------\n",
            "Done scaling...\n",
            "500 Epochs train MSE: 0.00072\n",
            "Done training...\n",
            "Done Validation...\n",
            "3fold cv---------------------------------\n",
            "Done scaling...\n",
            "500 Epochs train MSE: 0.00021\n",
            "Done training...\n",
            "Done Validation...\n",
            "4fold cv---------------------------------\n",
            "Done scaling...\n",
            "500 Epochs train MSE: 0.00011\n",
            "Done training...\n",
            "Done Validation...\n",
            "5fold cv---------------------------------\n",
            "Done scaling...\n",
            "500 Epochs train MSE: 0.00003\n",
            "Done training...\n",
            "Done Validation...\n",
            "CPU times: user 3min 27s, sys: 1.29 s, total: 3min 29s\n",
            "Wall time: 3min 29s\n"
          ],
          "name": "stdout"
        }
      ]
    },
    {
      "cell_type": "code",
      "metadata": {
        "colab": {
          "base_uri": "https://localhost:8080/",
          "height": 204
        },
        "id": "A8Zi7G5zHnNo",
        "outputId": "670a7f3b-e188-4a9a-e797-bee39de078b7"
      },
      "source": [
        "pd.DataFrame(errors)"
      ],
      "execution_count": 174,
      "outputs": [
        {
          "output_type": "execute_result",
          "data": {
            "text/html": [
              "<div>\n",
              "<style scoped>\n",
              "    .dataframe tbody tr th:only-of-type {\n",
              "        vertical-align: middle;\n",
              "    }\n",
              "\n",
              "    .dataframe tbody tr th {\n",
              "        vertical-align: top;\n",
              "    }\n",
              "\n",
              "    .dataframe thead th {\n",
              "        text-align: right;\n",
              "    }\n",
              "</style>\n",
              "<table border=\"1\" class=\"dataframe\">\n",
              "  <thead>\n",
              "    <tr style=\"text-align: right;\">\n",
              "      <th></th>\n",
              "      <th>사용자</th>\n",
              "      <th>세션</th>\n",
              "      <th>신규방문자</th>\n",
              "      <th>페이지뷰</th>\n",
              "      <th>total</th>\n",
              "    </tr>\n",
              "  </thead>\n",
              "  <tbody>\n",
              "    <tr>\n",
              "      <th>0</th>\n",
              "      <td>0.015331</td>\n",
              "      <td>0.030582</td>\n",
              "      <td>0.008530</td>\n",
              "      <td>0.009367</td>\n",
              "      <td>0.015952</td>\n",
              "    </tr>\n",
              "    <tr>\n",
              "      <th>1</th>\n",
              "      <td>0.021673</td>\n",
              "      <td>0.015743</td>\n",
              "      <td>0.031324</td>\n",
              "      <td>0.024342</td>\n",
              "      <td>0.023271</td>\n",
              "    </tr>\n",
              "    <tr>\n",
              "      <th>2</th>\n",
              "      <td>0.024326</td>\n",
              "      <td>0.015495</td>\n",
              "      <td>0.034807</td>\n",
              "      <td>0.045808</td>\n",
              "      <td>0.030109</td>\n",
              "    </tr>\n",
              "    <tr>\n",
              "      <th>3</th>\n",
              "      <td>0.041817</td>\n",
              "      <td>0.087660</td>\n",
              "      <td>0.024049</td>\n",
              "      <td>0.017432</td>\n",
              "      <td>0.042740</td>\n",
              "    </tr>\n",
              "    <tr>\n",
              "      <th>4</th>\n",
              "      <td>0.007467</td>\n",
              "      <td>0.013275</td>\n",
              "      <td>0.008781</td>\n",
              "      <td>0.001645</td>\n",
              "      <td>0.007792</td>\n",
              "    </tr>\n",
              "  </tbody>\n",
              "</table>\n",
              "</div>"
            ],
            "text/plain": [
              "        사용자        세션     신규방문자      페이지뷰     total\n",
              "0  0.015331  0.030582  0.008530  0.009367  0.015952\n",
              "1  0.021673  0.015743  0.031324  0.024342  0.023271\n",
              "2  0.024326  0.015495  0.034807  0.045808  0.030109\n",
              "3  0.041817  0.087660  0.024049  0.017432  0.042740\n",
              "4  0.007467  0.013275  0.008781  0.001645  0.007792"
            ]
          },
          "metadata": {
            "tags": []
          },
          "execution_count": 174
        }
      ]
    },
    {
      "cell_type": "code",
      "metadata": {
        "id": "auTRIzNJAL7O"
      },
      "source": [
        ""
      ],
      "execution_count": null,
      "outputs": []
    }
  ]
}